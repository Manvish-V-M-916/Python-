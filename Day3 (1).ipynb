{
  "nbformat": 4,
  "nbformat_minor": 0,
  "metadata": {
    "colab": {
      "provenance": []
    },
    "kernelspec": {
      "name": "python3",
      "display_name": "Python 3"
    },
    "language_info": {
      "name": "python"
    }
  },
  "cells": [
    {
      "cell_type": "markdown",
      "source": [
        "# day3 concepts\n",
        " Functions and Module"
      ],
      "metadata": {
        "id": "j9C8LxA7ZgCY"
      }
    },
    {
      "cell_type": "code",
      "source": [
        "def greet(name):\n",
        "  print(\"Hello,\"+ name+\"!\")\n",
        "\n",
        "greet(\"Alice\")\n"
      ],
      "metadata": {
        "colab": {
          "base_uri": "https://localhost:8080/"
        },
        "id": "RlSoYdmqeV4I",
        "outputId": "bec8d389-cc3d-4870-c9b6-ffca8dd3c86a"
      },
      "execution_count": null,
      "outputs": [
        {
          "output_type": "stream",
          "name": "stdout",
          "text": [
            "Hello,Alice!\n"
          ]
        }
      ]
    },
    {
      "cell_type": "markdown",
      "source": [
        "# position Argument"
      ],
      "metadata": {
        "id": "lhaPnMD4fRB4"
      }
    },
    {
      "cell_type": "code",
      "source": [
        "def add(a, b):\n",
        "   return a + b\n",
        "print(add(5, 3))"
      ],
      "metadata": {
        "colab": {
          "base_uri": "https://localhost:8080/"
        },
        "id": "Pev7D39FfXDB",
        "outputId": "19f5d291-02b8-4be4-de1a-61056f4961ce"
      },
      "execution_count": null,
      "outputs": [
        {
          "output_type": "stream",
          "name": "stdout",
          "text": [
            "8\n"
          ]
        }
      ]
    },
    {
      "cell_type": "markdown",
      "source": [
        "*keyword argument*"
      ],
      "metadata": {
        "id": "pS8uODQkgn2a"
      }
    },
    {
      "cell_type": "code",
      "source": [
        "def greet(name, message):\n",
        "  print(message + \", \" + name + \"!\")\n",
        "greet(name=\"allice\", message=\"Hello\")\n",
        "\n"
      ],
      "metadata": {
        "colab": {
          "base_uri": "https://localhost:8080/"
        },
        "id": "eVDirGKEgN98",
        "outputId": "b5c384b0-a5b9-4182-e27f-889f20fe3e65"
      },
      "execution_count": null,
      "outputs": [
        {
          "output_type": "stream",
          "name": "stdout",
          "text": [
            "Hello, allice!\n"
          ]
        }
      ]
    },
    {
      "cell_type": "markdown",
      "source": [
        "*variable length argument*"
      ],
      "metadata": {
        "id": "C-lXdnfFhpsr"
      }
    },
    {
      "cell_type": "code",
      "source": [
        "def sum_number(*numbers):\n",
        "   return sum(numbers)\n",
        "print(sum_number(1,2,3,4))"
      ],
      "metadata": {
        "colab": {
          "base_uri": "https://localhost:8080/"
        },
        "id": "fBIxKXCfhyQh",
        "outputId": "013c2bb2-5851-4e6a-f6df-ff87fcff4d0c"
      },
      "execution_count": null,
      "outputs": [
        {
          "output_type": "stream",
          "name": "stdout",
          "text": [
            "10\n"
          ]
        }
      ]
    },
    {
      "cell_type": "markdown",
      "source": [
        "# variable arguments"
      ],
      "metadata": {
        "id": "bTy0uqDrn1v_"
      }
    },
    {
      "cell_type": "code",
      "source": [
        "def describe_person(name, age, **info):\n",
        "  print(\"Name:\", name)\n",
        "  print(\"Age:\", age)\n",
        "  print(\"Additional Info:\")\n",
        "  for key, value in info.items():\n",
        "    print(key + \":\" ,value) # Indented this line to be part of the for loop\n",
        "describe_person(\"Alice\",25, city=\"New your\",country=\"USA\")\n"
      ],
      "metadata": {
        "colab": {
          "base_uri": "https://localhost:8080/"
        },
        "id": "VnzFbNLRj9pJ",
        "outputId": "1410f5b6-5d60-40c2-bfbc-264e0ba8fce1"
      },
      "execution_count": null,
      "outputs": [
        {
          "output_type": "stream",
          "name": "stdout",
          "text": [
            "Name: Alice\n",
            "Age: 25\n",
            "Additional Info:\n",
            "city: New your\n",
            "country: USA\n"
          ]
        }
      ]
    },
    {
      "cell_type": "markdown",
      "source": [
        "**RETURN STATEMENT**"
      ],
      "metadata": {
        "id": "oJCwCT0_n8D7"
      }
    },
    {
      "cell_type": "code",
      "source": [
        "def square(num):\n",
        "  return num * num\n",
        "\n",
        "result = square(5)\n",
        "print(result)\n"
      ],
      "metadata": {
        "colab": {
          "base_uri": "https://localhost:8080/"
        },
        "id": "wDsmvnT-nnwk",
        "outputId": "dc93c66a-3d43-44a8-ef0c-1b1a5ea59b12"
      },
      "execution_count": null,
      "outputs": [
        {
          "output_type": "stream",
          "name": "stdout",
          "text": [
            "25\n"
          ]
        }
      ]
    },
    {
      "cell_type": "code",
      "source": [
        "\n",
        "def square(x):\n",
        "    return x * x\n",
        "result = square(8)\n",
        "print(\"Square is:\",result)\n",
        "\n",
        "result = square(4)\n",
        "print(\"Square is:\",result)"
      ],
      "metadata": {
        "colab": {
          "base_uri": "https://localhost:8080/"
        },
        "id": "J1eCnDVap6HE",
        "outputId": "ef314a6d-df28-4417-8c17-4319f7889d38"
      },
      "execution_count": null,
      "outputs": [
        {
          "output_type": "stream",
          "name": "stdout",
          "text": [
            "Square is: 64\n",
            "Square is: 16\n"
          ]
        }
      ]
    },
    {
      "cell_type": "markdown",
      "source": [
        "# Module\n",
        "\n",
        "1.   import modules\n",
        "2.   import specific function\n"
      ],
      "metadata": {
        "id": "2ABGvTsOqaDO"
      }
    },
    {
      "cell_type": "code",
      "source": [
        "import math\n",
        "print(math.sqrt(16))"
      ],
      "metadata": {
        "colab": {
          "base_uri": "https://localhost:8080/"
        },
        "id": "Fo8KOkSzq9-I",
        "outputId": "40d91d86-5f65-4545-9223-29bcb89e3617"
      },
      "execution_count": null,
      "outputs": [
        {
          "output_type": "stream",
          "name": "stdout",
          "text": [
            "4.0\n"
          ]
        }
      ]
    },
    {
      "cell_type": "code",
      "source": [
        "from math import pi, sin\n",
        "print(pi)\n",
        "print(sin(math.radians(90)))"
      ],
      "metadata": {
        "colab": {
          "base_uri": "https://localhost:8080/"
        },
        "id": "ZI7LVrN3rMJA",
        "outputId": "cf552ff2-ed8a-4265-f652-1c6935939be5"
      },
      "execution_count": null,
      "outputs": [
        {
          "output_type": "stream",
          "name": "stdout",
          "text": [
            "3.141592653589793\n",
            "1.0\n"
          ]
        }
      ]
    },
    {
      "cell_type": "code",
      "source": [
        "def greet(name):\n",
        "  print(\"hello,\"+name)\n",
        "def add(a,b):\n",
        "  return a+b\n",
        "\n",
        "  import manvish\n",
        "\n",
        "  manvish.greet(\"alice\")\n",
        "  print(manvish.add(5,3))"
      ],
      "metadata": {
        "id": "W3wwR5T5xdBr"
      },
      "execution_count": null,
      "outputs": []
    },
    {
      "cell_type": "markdown",
      "source": [
        "write a function to check if a number is prime"
      ],
      "metadata": {
        "id": "3ffNGb1zIEhE"
      }
    },
    {
      "cell_type": "code",
      "source": [
        "def is_prime(num):\n",
        "    if num <= 1:\n",
        "        return False\n",
        "    for i in range(2, int(num ** 0.5) + 1):\n",
        "        if num % i == 0:\n",
        "            return False\n",
        "    return True\n",
        "print(is_prime(7))\n",
        "print(is_prime(10))"
      ],
      "metadata": {
        "id": "BZZ4z5Y2IXK7",
        "colab": {
          "base_uri": "https://localhost:8080/"
        },
        "outputId": "b8ad2329-b854-445d-9377-30534ac5988b"
      },
      "execution_count": null,
      "outputs": [
        {
          "output_type": "stream",
          "name": "stdout",
          "text": [
            "True\n",
            "False\n"
          ]
        }
      ]
    },
    {
      "cell_type": "code",
      "source": [
        "def is_prime(num):\n",
        "    if num <= 1:\n",
        "        return False\n",
        "    for i in range(2, int(num ** 0.5) + 1):\n",
        "        if num % i == 0:\n",
        "            return False\n",
        "    return True\n",
        "\n",
        "number = int(input(\"Enter a number:\"))\n",
        "if is_prime(number):\n",
        "    print(\"The number is print.\")\n",
        "else:\n",
        "    print(\"The number is not a prime.\")\n"
      ],
      "metadata": {
        "colab": {
          "base_uri": "https://localhost:8080/"
        },
        "id": "yJHRSQz3LqGm",
        "outputId": "262819ef-49d9-432a-bfe8-9a5eac32c224"
      },
      "execution_count": null,
      "outputs": [
        {
          "output_type": "stream",
          "name": "stdout",
          "text": [
            "Enter a number:3\n",
            "The number is print.\n"
          ]
        }
      ]
    },
    {
      "cell_type": "markdown",
      "source": [
        "2.Create a Function to Generate Fibonacci Sequence"
      ],
      "metadata": {
        "id": "gTlAsikNMkW7"
      }
    },
    {
      "cell_type": "code",
      "source": [
        "def fibonacci(n):\n",
        "  sequence = []\n",
        "  a, b = 0, 1\n",
        "  for _ in range(n):\n",
        "    sequence.append(a)\n",
        "    a, b = b, a + b\n",
        "  return sequence\n",
        "\n",
        "# Get input from the user\n",
        "terms = int(input(\"Enter the number of terms: \"))\n",
        "\n",
        "# Calculate and print the Fibonacci sequence\n",
        "result = fibonacci(terms)  # Store the result for clarity\n",
        "print(\"Fibonacci sequence:\", result)"
      ],
      "metadata": {
        "colab": {
          "base_uri": "https://localhost:8080/"
        },
        "id": "TZ5Y_71dOSsz",
        "outputId": "82da9005-a4ed-4b66-e8b9-f65f34703898"
      },
      "execution_count": null,
      "outputs": [
        {
          "output_type": "stream",
          "name": "stdout",
          "text": [
            "Enter the number of terms: 8\n",
            "Fibonacci sequence: [0, 1, 1, 2, 3, 5, 8, 13]\n"
          ]
        }
      ]
    },
    {
      "cell_type": "markdown",
      "source": [
        "3.use the 'math' Module to Solve a problem"
      ],
      "metadata": {
        "id": "6RLT58DJPQ-g"
      }
    },
    {
      "cell_type": "code",
      "source": [
        "import math\n",
        "\n",
        "angle = float(input(\"Enter an angle in degrees: \"))\n",
        "radian = math.radians(angle)\n",
        "\n",
        "# Corrected print statements\n",
        "print(\"Sine of angle:\", math.sin(radian))  # Use commas to separate values for printing\n",
        "print(\"Cosine of angle:\", math.cos(radian))\n",
        "\n"
      ],
      "metadata": {
        "colab": {
          "base_uri": "https://localhost:8080/"
        },
        "id": "bzvCeLr9PgbL",
        "outputId": "50b7899e-bc55-4aa9-a5af-c4d1cd247f73"
      },
      "execution_count": null,
      "outputs": [
        {
          "output_type": "stream",
          "name": "stdout",
          "text": [
            "Enter an angle in degrees: 56\n",
            "Sine of angle: 0.8290375725550417\n",
            "Cosine of angle: 0.5591929034707468\n"
          ]
        }
      ]
    },
    {
      "cell_type": "markdown",
      "source": [
        "*11.Factirial Using Recusion*"
      ],
      "metadata": {
        "id": "H_s_bgxBRMs0"
      }
    },
    {
      "cell_type": "code",
      "source": [
        "def factorial(n):\n",
        "  if n == 0:\n",
        "    return 1\n",
        "  else:\n",
        "    return n * factorial(n - 1)\n",
        "\n",
        "num = int(input(\"Enter a number: \"))\n",
        "print(\"Factorial:\", factorial(num))\n",
        "\n"
      ],
      "metadata": {
        "colab": {
          "base_uri": "https://localhost:8080/"
        },
        "id": "qvxqYluGRcTk",
        "outputId": "954b0494-8a0f-4543-8f90-0c9446a56c87"
      },
      "execution_count": null,
      "outputs": [
        {
          "output_type": "stream",
          "name": "stdout",
          "text": [
            "Enter a number: 2\n",
            "Factorial: 2\n"
          ]
        }
      ]
    },
    {
      "cell_type": "markdown",
      "source": [
        "*Fibonacci Series Using Functions*"
      ],
      "metadata": {
        "id": "UrsFHNoBTDwu"
      }
    },
    {
      "cell_type": "code",
      "source": [
        "def fibonacci(n):\n",
        "  a, b = 0, 1\n",
        "  for _ in range(n):\n",
        "    print(a, end=\" \")\n",
        "    a, b = b, a + b\n",
        "\n",
        "\n",
        "count = int(input(\"Enter the number of terms: \"))\n",
        "fibonacci(count)"
      ],
      "metadata": {
        "colab": {
          "base_uri": "https://localhost:8080/"
        },
        "id": "DhAup_gjTVXq",
        "outputId": "90b038fe-0431-40b5-c05c-5e1a928c7fdf"
      },
      "execution_count": null,
      "outputs": [
        {
          "output_type": "stream",
          "name": "stdout",
          "text": [
            "Enter the number of terms: 25\n",
            "0 1 1 2 3 5 8 13 21 34 55 89 144 233 377 610 987 1597 2584 4181 6765 10946 17711 28657 46368 "
          ]
        }
      ]
    },
    {
      "cell_type": "markdown",
      "source": [
        "15.Find GCD of two Numbers Using a Function"
      ],
      "metadata": {
        "id": "fnyQ2qVvZN_-"
      }
    },
    {
      "cell_type": "code",
      "source": [
        "from binascii import b2a_base64\n",
        "def gcd(a,b):\n",
        "  while b:\n",
        "    a,b=b,a%b\n",
        "\n",
        "    return a\n",
        "num1=int(input(\"Enter first number:\"))\n",
        "num2=int(input(\"Enter second number:\"))\n",
        "print(\"GCD:\",gcd(num1,num2))"
      ],
      "metadata": {
        "colab": {
          "base_uri": "https://localhost:8080/"
        },
        "id": "DRPwixcBZO9J",
        "outputId": "5d24fcaf-88c0-471c-9c78-72625d17ebc9"
      },
      "execution_count": null,
      "outputs": [
        {
          "output_type": "stream",
          "name": "stdout",
          "text": [
            "Enter first number:25\n",
            "Enter second number:36\n",
            "GCD: 36\n"
          ]
        }
      ]
    },
    {
      "cell_type": "markdown",
      "source": [],
      "metadata": {
        "id": "DsSpCodlZ2C6"
      }
    }
  ]
}