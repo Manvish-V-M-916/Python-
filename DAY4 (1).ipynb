{
  "nbformat": 4,
  "nbformat_minor": 0,
  "metadata": {
    "colab": {
      "provenance": []
    },
    "kernelspec": {
      "name": "python3",
      "display_name": "Python 3"
    },
    "language_info": {
      "name": "python"
    }
  },
  "cells": [
    {
      "cell_type": "markdown",
      "source": [
        "#**DAY** 4:  DATA Structures in Python"
      ],
      "metadata": {
        "id": "T-58BoykJcu_"
      }
    },
    {
      "cell_type": "code",
      "source": [
        "# creating list with same data type\n",
        "a = [1,2,3,4,5,6,7,8,9,10]\n",
        "print(a)\n"
      ],
      "metadata": {
        "colab": {
          "base_uri": "https://localhost:8080/"
        },
        "id": "BhZlzkyaKyyM",
        "outputId": "91a2dcd8-08ea-4160-b5e8-22a07c9f645f"
      },
      "execution_count": null,
      "outputs": [
        {
          "output_type": "stream",
          "name": "stdout",
          "text": [
            "[1, 2, 3, 4, 5, 6, 7, 8, 9, 10]\n"
          ]
        }
      ]
    },
    {
      "cell_type": "code",
      "source": [
        "a = [1, 2, 5, 'raj']\n",
        "print(a)"
      ],
      "metadata": {
        "colab": {
          "base_uri": "https://localhost:8080/"
        },
        "id": "rNkaFgLhMOJ8",
        "outputId": "478e3eb9-47b7-497e-e154-eef63fee4597"
      },
      "execution_count": null,
      "outputs": [
        {
          "output_type": "stream",
          "name": "stdout",
          "text": [
            "[1, 2, 5, 'raj']\n"
          ]
        }
      ]
    },
    {
      "cell_type": "code",
      "source": [
        "#sort()\n",
        "omkar = [1,7,2,8,3,9]\n",
        "omkar.sort()\n",
        "print(omkar)"
      ],
      "metadata": {
        "colab": {
          "base_uri": "https://localhost:8080/"
        },
        "id": "-5-IKPt9Pmhx",
        "outputId": "b4befad1-5907-4211-a973-be2749a67989"
      },
      "execution_count": null,
      "outputs": [
        {
          "output_type": "stream",
          "name": "stdout",
          "text": [
            "[1, 2, 3, 7, 8, 9]\n"
          ]
        }
      ]
    },
    {
      "cell_type": "code",
      "source": [
        "#Iterating Through a List\n",
        "for i in omkar:\n",
        "  i*2\n",
        "  print(i)"
      ],
      "metadata": {
        "colab": {
          "base_uri": "https://localhost:8080/"
        },
        "id": "D8IZKKKDRYsA",
        "outputId": "208a626b-f3b7-4b73-98eb-8db29ccc984a"
      },
      "execution_count": null,
      "outputs": [
        {
          "output_type": "stream",
          "name": "stdout",
          "text": [
            "9\n",
            "3\n",
            "8\n",
            "2\n",
            "7\n",
            "1\n"
          ]
        }
      ]
    },
    {
      "cell_type": "code",
      "source": [
        "x = (1,2,3,4,5,6,7,8,9,10)\n",
        "print(x)"
      ],
      "metadata": {
        "colab": {
          "base_uri": "https://localhost:8080/"
        },
        "id": "vMpNITrMSK2Y",
        "outputId": "f841cdaa-0d98-460b-90b8-1ae34de3c9b8"
      },
      "execution_count": null,
      "outputs": [
        {
          "output_type": "stream",
          "name": "stdout",
          "text": [
            "(1, 2, 3, 4, 5, 6, 7, 8, 9, 10)\n"
          ]
        }
      ]
    },
    {
      "cell_type": "markdown",
      "source": [
        "list operation\n",
        "Accessing Iteams"
      ],
      "metadata": {
        "id": "MjRyie7UaGE8"
      }
    },
    {
      "cell_type": "code",
      "source": [
        "numbers = [10, 20, 30, 40, 50]\n",
        "print(numbers[0])\n",
        "print(numbers[-1])\n",
        "print(numbers[1:4])"
      ],
      "metadata": {
        "colab": {
          "base_uri": "https://localhost:8080/"
        },
        "id": "gqD6BDX9XNcO",
        "outputId": "81f1c86c-182a-4921-d976-d50997ac97a4"
      },
      "execution_count": null,
      "outputs": [
        {
          "output_type": "stream",
          "name": "stdout",
          "text": [
            "10\n",
            "50\n",
            "[20, 30, 40]\n"
          ]
        }
      ]
    },
    {
      "cell_type": "markdown",
      "source": [
        "modifying Iteams"
      ],
      "metadata": {
        "id": "cGFKxSCga5LE"
      }
    },
    {
      "cell_type": "code",
      "source": [
        "numbers[0]=10\n",
        "print(numbers)"
      ],
      "metadata": {
        "colab": {
          "base_uri": "https://localhost:8080/"
        },
        "id": "feiWGxMRbAnf",
        "outputId": "777a32a8-fb66-459d-b0a9-2f1a7902504d"
      },
      "execution_count": null,
      "outputs": [
        {
          "output_type": "stream",
          "name": "stdout",
          "text": [
            "[10, 20, 30, 40, 50]\n"
          ]
        }
      ]
    },
    {
      "cell_type": "markdown",
      "source": [
        "Adding Iteams"
      ],
      "metadata": {
        "id": "4fa54qfabJzz"
      }
    },
    {
      "cell_type": "code",
      "source": [
        "numbers = [10, 20, 30, 40, 50]  # Sample list\n",
        "numbers.append(6)  # Appends 6 to the list\n",
        "print(numbers)  # Prints the updated list"
      ],
      "metadata": {
        "colab": {
          "base_uri": "https://localhost:8080/"
        },
        "id": "OCe52rnbbNrT",
        "outputId": "fdf7d5b5-9520-4ea6-9fe0-6e904337c14c"
      },
      "execution_count": null,
      "outputs": [
        {
          "output_type": "stream",
          "name": "stdout",
          "text": [
            "[10, 20, 30, 40, 50, 6]\n"
          ]
        }
      ]
    },
    {
      "cell_type": "markdown",
      "source": [
        "'insert()'"
      ],
      "metadata": {
        "id": "6xJqcpx3bwCb"
      }
    },
    {
      "cell_type": "code",
      "source": [
        "numbers.insert(1,15)\n",
        "print(numbers)"
      ],
      "metadata": {
        "colab": {
          "base_uri": "https://localhost:8080/"
        },
        "id": "JIvg8NFfb36r",
        "outputId": "122b76de-f667-487a-ee97-f189e355e76f"
      },
      "execution_count": null,
      "outputs": [
        {
          "output_type": "stream",
          "name": "stdout",
          "text": [
            "[10, 15, 15, 20, 30, 40, 50, 6]\n"
          ]
        }
      ]
    },
    {
      "cell_type": "markdown",
      "source": [
        "Removing Items\n"
      ],
      "metadata": {
        "id": "fVSXQ6qJcCP0"
      }
    },
    {
      "cell_type": "code",
      "source": [
        "numbers.remove(10)\n",
        "\n",
        "print(numbers)\n"
      ],
      "metadata": {
        "colab": {
          "base_uri": "https://localhost:8080/"
        },
        "id": "48TZUl1rcKHY",
        "outputId": "a0ba2778-cc23-4c36-ef6a-45db5df4ae35"
      },
      "execution_count": null,
      "outputs": [
        {
          "output_type": "stream",
          "name": "stdout",
          "text": [
            "[15, 15, 20, 30, 40, 50, 6]\n"
          ]
        }
      ]
    },
    {
      "cell_type": "markdown",
      "source": [
        "*'pop'*"
      ],
      "metadata": {
        "id": "pHZc9oAocrc6"
      }
    },
    {
      "cell_type": "code",
      "source": [
        "numbers.pop(2)  # Removes the item at index 2\n",
        "print(numbers)"
      ],
      "metadata": {
        "colab": {
          "base_uri": "https://localhost:8080/"
        },
        "id": "VcDf_WDJc0Pi",
        "outputId": "0359e2d4-f3a8-4a0e-bd1e-c31d89890fbf"
      },
      "execution_count": null,
      "outputs": [
        {
          "output_type": "stream",
          "name": "stdout",
          "text": [
            "[15, 15, 30, 40, 50, 6]\n"
          ]
        }
      ]
    },
    {
      "cell_type": "code",
      "source": [
        "#reverse()\n",
        "omkar = [1,7,2,8,3,9]\n",
        "omkar.reverse()\n",
        "print(omkar)"
      ],
      "metadata": {
        "colab": {
          "base_uri": "https://localhost:8080/"
        },
        "id": "I4koi1M2QjcJ",
        "outputId": "520992dd-0569-4a28-fb9a-7e9f8e959098"
      },
      "execution_count": null,
      "outputs": [
        {
          "output_type": "stream",
          "name": "stdout",
          "text": [
            "[9, 3, 8, 2, 7, 1]\n"
          ]
        }
      ]
    },
    {
      "cell_type": "markdown",
      "source": [
        "Iterating Through a list"
      ],
      "metadata": {
        "id": "Ale1AAVRdA9q"
      }
    },
    {
      "cell_type": "code",
      "source": [
        "for num in numbers:\n",
        "  print(num)"
      ],
      "metadata": {
        "colab": {
          "base_uri": "https://localhost:8080/"
        },
        "id": "0Qu4eH1BdK2j",
        "outputId": "24d677d9-e72a-4e64-a9f1-f3575579f83e"
      },
      "execution_count": null,
      "outputs": [
        {
          "output_type": "stream",
          "name": "stdout",
          "text": [
            "15\n",
            "15\n",
            "30\n",
            "40\n",
            "50\n",
            "6\n"
          ]
        }
      ]
    },
    {
      "cell_type": "markdown",
      "source": [
        "# Tuples"
      ],
      "metadata": {
        "id": "cd2mibdddR9S"
      }
    },
    {
      "cell_type": "markdown",
      "source": [
        "**creating a tuple**"
      ],
      "metadata": {
        "id": "hwCB08Pmdjrp"
      }
    },
    {
      "cell_type": "code",
      "source": [
        "coordinates=(10,20,30)\n",
        "print(coordinates)"
      ],
      "metadata": {
        "colab": {
          "base_uri": "https://localhost:8080/"
        },
        "id": "CZVDqjcndWkc",
        "outputId": "770f74fe-f261-4a11-84ee-09fbeb25725a"
      },
      "execution_count": null,
      "outputs": [
        {
          "output_type": "stream",
          "name": "stdout",
          "text": [
            "(10, 20, 30)\n"
          ]
        }
      ]
    },
    {
      "cell_type": "code",
      "source": [
        "#Accessing Iteams in a Tuple\n",
        "print(coordinates[0])"
      ],
      "metadata": {
        "colab": {
          "base_uri": "https://localhost:8080/"
        },
        "id": "3mag0saWd4EC",
        "outputId": "26468b15-41b4-4f6c-d0fa-5770a40f885e"
      },
      "execution_count": null,
      "outputs": [
        {
          "output_type": "stream",
          "name": "stdout",
          "text": [
            "10\n"
          ]
        }
      ]
    },
    {
      "cell_type": "markdown",
      "source": [
        "Dictionaries"
      ],
      "metadata": {
        "id": "ll4lZR0veOGB"
      }
    },
    {
      "cell_type": "code",
      "source": [
        "#Dictionaries\n",
        "student = {\n",
        "    \"name\":\"Alice\",\n",
        "    \"age\":20,\n",
        "    \"marks\":85,\n",
        "}\n",
        "print(student)"
      ],
      "metadata": {
        "colab": {
          "base_uri": "https://localhost:8080/"
        },
        "id": "TKuBMa3leSG9",
        "outputId": "ab093bd2-0f38-4c82-929b-62ce2399aa9e"
      },
      "execution_count": null,
      "outputs": [
        {
          "output_type": "stream",
          "name": "stdout",
          "text": [
            "{'name': 'Alice', 'age': 20, 'marks': 85}\n"
          ]
        }
      ]
    },
    {
      "cell_type": "code",
      "source": [
        "numbers = [10, 20, 30, 40, 50]\n",
        "print(numbers[0])\n",
        "print(numbers[-1])\n",
        "print(numbers[1:4])\n"
      ],
      "metadata": {
        "colab": {
          "base_uri": "https://localhost:8080/"
        },
        "id": "yQk9a78fe46x",
        "outputId": "6fcb5a7d-cb43-42f6-a1a7-4762bec66e5b"
      },
      "execution_count": null,
      "outputs": [
        {
          "output_type": "stream",
          "name": "stdout",
          "text": [
            "10\n",
            "50\n",
            "[20, 30, 40]\n"
          ]
        }
      ]
    },
    {
      "cell_type": "code",
      "source": [
        "#Modifying:\n",
        "student[\"age\"]=21\n",
        "print(student)"
      ],
      "metadata": {
        "colab": {
          "base_uri": "https://localhost:8080/"
        },
        "id": "dItuuJIsnYJs",
        "outputId": "fb933b3c-7e8c-4d94-da6d-569937d60fdb"
      },
      "execution_count": null,
      "outputs": [
        {
          "output_type": "stream",
          "name": "stdout",
          "text": [
            "{'name': 'Alice', 'age': 21, 'marks': 85}\n"
          ]
        }
      ]
    },
    {
      "cell_type": "code",
      "source": [
        "#Adding:\n",
        "student[\"grade\"]=\"A\"\n",
        "print(student)\n"
      ],
      "metadata": {
        "colab": {
          "base_uri": "https://localhost:8080/"
        },
        "id": "xrCm4Ys8nq9d",
        "outputId": "23bc2db9-2fd9-481a-fb25-896900211528"
      },
      "execution_count": null,
      "outputs": [
        {
          "output_type": "stream",
          "name": "stdout",
          "text": [
            "{'name': 'Alice', 'age': 21, 'marks': 85, 'grade': 'A'}\n"
          ]
        }
      ]
    },
    {
      "cell_type": "code",
      "source": [
        "#Removing:\n",
        "del student[\"marks\"]\n",
        "print(student)"
      ],
      "metadata": {
        "colab": {
          "base_uri": "https://localhost:8080/"
        },
        "id": "eCRG6LMEoazM",
        "outputId": "efc3f13a-f0d2-488b-df5d-bf32b781b680"
      },
      "execution_count": null,
      "outputs": [
        {
          "output_type": "stream",
          "name": "stdout",
          "text": [
            "{'name': 'Alice', 'age': 21, 'grade': 'A'}\n"
          ]
        }
      ]
    },
    {
      "cell_type": "code",
      "source": [
        "#Iterating Through a Dictionary\n",
        "for key,value in student.items():\n",
        "  print(key,value)"
      ],
      "metadata": {
        "colab": {
          "base_uri": "https://localhost:8080/"
        },
        "id": "54umZuHMowHq",
        "outputId": "976e5d2d-5f74-4fab-8251-ba71c89841a4"
      },
      "execution_count": null,
      "outputs": [
        {
          "output_type": "stream",
          "name": "stdout",
          "text": [
            "name Alice\n",
            "age 21\n",
            "grade A\n"
          ]
        }
      ]
    },
    {
      "cell_type": "markdown",
      "source": [
        "#SET's"
      ],
      "metadata": {
        "id": "O3Cdz-5TpVh6"
      }
    },
    {
      "cell_type": "code",
      "source": [
        "#creating a set\n",
        "numbers = {1,2,3,4,5}\n",
        "print(numbers)"
      ],
      "metadata": {
        "colab": {
          "base_uri": "https://localhost:8080/"
        },
        "id": "rbgK4_nno9Zy",
        "outputId": "1973c139-39f5-438b-d49e-51119b413266"
      },
      "execution_count": null,
      "outputs": [
        {
          "output_type": "stream",
          "name": "stdout",
          "text": [
            "{1, 2, 3, 4, 5}\n"
          ]
        }
      ]
    },
    {
      "cell_type": "code",
      "source": [
        "#Set opreations\n",
        "#Adding Iteams\n",
        "\n",
        "numbers.add(6)\n",
        "print(numbers)"
      ],
      "metadata": {
        "colab": {
          "base_uri": "https://localhost:8080/"
        },
        "id": "rfK18CTNptPy",
        "outputId": "d5a5b052-bdc3-4a7d-add2-5680f8569942"
      },
      "execution_count": null,
      "outputs": [
        {
          "output_type": "stream",
          "name": "stdout",
          "text": [
            "{1, 2, 3, 4, 5, 6}\n"
          ]
        }
      ]
    },
    {
      "cell_type": "code",
      "source": [
        "#Removing Iteams\n",
        "numbers.add(6)\n",
        "print(numbers)"
      ],
      "metadata": {
        "colab": {
          "base_uri": "https://localhost:8080/"
        },
        "id": "twF4RfkfqEeb",
        "outputId": "9748af2a-ce04-4756-f000-bbebab11dd0f"
      },
      "execution_count": null,
      "outputs": [
        {
          "output_type": "stream",
          "name": "stdout",
          "text": [
            "{1, 2, 3, 4, 5, 6}\n"
          ]
        }
      ]
    },
    {
      "cell_type": "code",
      "source": [
        "#Set Operations\n",
        "u'set1|set2'\n",
        "u'set1&set2'\n",
        "u'set1-set2'\n"
      ],
      "metadata": {
        "colab": {
          "base_uri": "https://localhost:8080/",
          "height": 35
        },
        "id": "0Y-XmFZiqZhq",
        "outputId": "cc994f71-f491-4f14-ff4e-37cd05c08599"
      },
      "execution_count": null,
      "outputs": [
        {
          "output_type": "execute_result",
          "data": {
            "text/plain": [
              "'set1-set2'"
            ],
            "application/vnd.google.colaboratory.intrinsic+json": {
              "type": "string"
            }
          },
          "metadata": {},
          "execution_count": 81
        }
      ]
    },
    {
      "cell_type": "markdown",
      "source": [
        "#Hands-on Practice"
      ],
      "metadata": {
        "id": "N6scSVb1ulCH"
      }
    },
    {
      "cell_type": "code",
      "source": [
        "#1.Manipulating Lists\n",
        "fruits = [\"apple\",\"banana\",\"cherry\"]\n",
        "fruits.append(\"orange\")\n",
        "fruits.remove(\"banana\")\n",
        "print(fruits)"
      ],
      "metadata": {
        "colab": {
          "base_uri": "https://localhost:8080/"
        },
        "id": "Ox0EV19eq-ea",
        "outputId": "f3a00526-267b-4623-bc2e-89bc2fd8ec32"
      },
      "execution_count": null,
      "outputs": [
        {
          "output_type": "stream",
          "name": "stdout",
          "text": [
            "['apple', 'cherry', 'orange']\n"
          ]
        }
      ]
    },
    {
      "cell_type": "code",
      "source": [
        "#Creating a Dictionary\n",
        "book={\n",
        "    \"title\":\"python Basics\",\n",
        "    \"author\":\"John Dor\",\n",
        "    \"year\":2021\n",
        "}\n",
        "print(book[\"title\"])\n",
        "book[\"year\"]=2022\n",
        "print(book)"
      ],
      "metadata": {
        "colab": {
          "base_uri": "https://localhost:8080/"
        },
        "id": "mRAI4cONsByJ",
        "outputId": "0eedbfd3-9b3f-4b33-888f-994c0370159b"
      },
      "execution_count": null,
      "outputs": [
        {
          "output_type": "stream",
          "name": "stdout",
          "text": [
            "python Basics\n",
            "{'title': 'python Basics', 'author': 'John Dor', 'year': 2022}\n"
          ]
        }
      ]
    },
    {
      "cell_type": "code",
      "source": [
        "#Working with Sets\n",
        "set1 = {1,2,3,4}\n",
        "set2 = {3,4,5,6}\n",
        "print(\"Union:\",set1|set2)\n",
        "print(\"Intersection:\",set1 & set2)\n",
        "print(\"Difference:\",set1 - set2)"
      ],
      "metadata": {
        "colab": {
          "base_uri": "https://localhost:8080/"
        },
        "id": "qnjuMl7otThQ",
        "outputId": "b0e3ab3f-d7c7-432c-e0e4-3e3574034b36"
      },
      "execution_count": null,
      "outputs": [
        {
          "output_type": "stream",
          "name": "stdout",
          "text": [
            "Union: {1, 2, 3, 4, 5, 6}\n",
            "Intersection: {3, 4}\n",
            "Difference: {1, 2}\n"
          ]
        }
      ]
    },
    {
      "cell_type": "code",
      "source": [
        "#16.Merge Two Lists\n",
        "list1 = [1,2,3]\n",
        "list2 = [4,5,6]\n",
        "merged_list=list1+list2\n",
        "print(\"Merged List:\",merged_list)"
      ],
      "metadata": {
        "colab": {
          "base_uri": "https://localhost:8080/"
        },
        "id": "uGV_rTYPurUI",
        "outputId": "d6063129-9a8d-41c2-b905-edbc6502afb9"
      },
      "execution_count": null,
      "outputs": [
        {
          "output_type": "stream",
          "name": "stdout",
          "text": [
            "Merged List: [1, 2, 3, 4, 5, 6]\n"
          ]
        }
      ]
    },
    {
      "cell_type": "code",
      "source": [
        "#17. DICTIONARY OPERTIONS\n",
        "student = {\"name\":\"John\",\"age\":21,\"marks\":85}\n",
        "print(\"Name:\",student[\"name\"])\n",
        "student[\"marks\"]=90\n",
        "print(\"Updated Marks:\",student[\"marks\"])"
      ],
      "metadata": {
        "colab": {
          "base_uri": "https://localhost:8080/"
        },
        "id": "LIP5I-fpvYNH",
        "outputId": "9ec21193-91c2-46a0-c79b-473f8293ecf4"
      },
      "execution_count": null,
      "outputs": [
        {
          "output_type": "stream",
          "name": "stdout",
          "text": [
            "Name: John\n",
            "Updated Marks: 90\n"
          ]
        }
      ]
    },
    {
      "cell_type": "code",
      "source": [
        "#18.Find the Maximum and Minimum in a List\n",
        "numbers = [10,20,30,40,50]\n",
        "print(\"Maximum:\",max(number))\n",
        "print(\"Minimum:\",min(number))"
      ],
      "metadata": {
        "colab": {
          "base_uri": "https://localhost:8080/"
        },
        "id": "NVTUeUkXxp8N",
        "outputId": "ce89c881-2095-4aca-b2ac-cff9c3408418"
      },
      "execution_count": null,
      "outputs": [
        {
          "output_type": "stream",
          "name": "stdout",
          "text": [
            "Maximum: 4\n",
            "Minimum: 1\n"
          ]
        }
      ]
    },
    {
      "cell_type": "code",
      "source": [
        "#19.count Frequency of Elements in a List\n",
        "number = [1,2,2,3,3,3,4,4,4,4]\n",
        "frequency={}\n",
        "for num in number:\n",
        "  frequency[num]=frequency.get(num,0)+1\n",
        "  print(\"Frequency of elements:\",frequency)"
      ],
      "metadata": {
        "colab": {
          "base_uri": "https://localhost:8080/"
        },
        "id": "QDFinUHbwn02",
        "outputId": "43b45c79-0946-46f0-cb68-fa37d4e3610f"
      },
      "execution_count": null,
      "outputs": [
        {
          "output_type": "stream",
          "name": "stdout",
          "text": [
            "Frequency of elements: {1: 1}\n",
            "Frequency of elements: {1: 1, 2: 1}\n",
            "Frequency of elements: {1: 1, 2: 2}\n",
            "Frequency of elements: {1: 1, 2: 2, 3: 1}\n",
            "Frequency of elements: {1: 1, 2: 2, 3: 2}\n",
            "Frequency of elements: {1: 1, 2: 2, 3: 3}\n",
            "Frequency of elements: {1: 1, 2: 2, 3: 3, 4: 1}\n",
            "Frequency of elements: {1: 1, 2: 2, 3: 3, 4: 2}\n",
            "Frequency of elements: {1: 1, 2: 2, 3: 3, 4: 3}\n",
            "Frequency of elements: {1: 1, 2: 2, 3: 3, 4: 4}\n"
          ]
        }
      ]
    },
    {
      "cell_type": "code",
      "source": [
        "#20 sort a list of tuples by the the second Elements\n",
        "tuples = [(1,'apple'),(2, 'banana'),(3,'cherry')]\n",
        "sorted_tuples=sorted(tuples,key=lambda x:x[1])\n",
        "print(\"Sorted tuples:\",sorted_tuples)"
      ],
      "metadata": {
        "colab": {
          "base_uri": "https://localhost:8080/"
        },
        "id": "fR-Df7ezxn82",
        "outputId": "778ff32c-8b20-4873-9306-1b120fba7217"
      },
      "execution_count": null,
      "outputs": [
        {
          "output_type": "stream",
          "name": "stdout",
          "text": [
            "Sorted tuples: [(1, 'apple'), (2, 'banana'), (3, 'cherry')]\n"
          ]
        }
      ]
    },
    {
      "cell_type": "code",
      "source": [
        "#palindrome number\n",
        "\n",
        "number = int(input(\"Enter a number:\"))\n",
        "reverse_number = 0\n",
        "temp = number\n",
        "while temp > 0:\n",
        "  digit = temp % 10\n",
        "  reverse_number = reverse_number * 10 + digit\n",
        "  temp = temp // 10\n",
        "if number == reverse_number:\n",
        "  print(f\"{number} palindrome\")\n",
        "else:\n",
        "  print(f\"{number} not palindrome\")\n",
        "\n"
      ],
      "metadata": {
        "colab": {
          "base_uri": "https://localhost:8080/"
        },
        "id": "LQfZtxKwzwh0",
        "outputId": "7812c832-bf70-42c8-a79a-665c17e7a855"
      },
      "execution_count": null,
      "outputs": [
        {
          "output_type": "stream",
          "name": "stdout",
          "text": [
            "Enter a number:344\n",
            "344 not palindrome\n"
          ]
        }
      ]
    },
    {
      "cell_type": "code",
      "source": [
        "number = input(\"Enter a number:\")\n",
        "if number == str(number)[::-1]:\n",
        "  print(\"palindrome\")\n",
        "else:\n",
        "  print(\"Not palindrome\")\n",
        "  print(\"Not palindrome\")"
      ],
      "metadata": {
        "colab": {
          "base_uri": "https://localhost:8080/"
        },
        "id": "uhHDaPww5M6B",
        "outputId": "813c8540-4e8d-4d9b-a3a4-f8ff18c24b5c"
      },
      "execution_count": 8,
      "outputs": [
        {
          "output_type": "stream",
          "name": "stdout",
          "text": [
            "Enter a number:1\n",
            "palindrome\n"
          ]
        }
      ]
    },
    {
      "cell_type": "code",
      "source": [
        "class Solution(object):\n",
        "    def isPalindrome(self, x):\n",
        "        \"\"\"\n",
        "        :type x: int\n",
        "        :rtype: bool\n",
        "        \"\"\"\n",
        "        if x < 0:\n",
        "            return False\n",
        "        reversed_num = 0\n",
        "        temp = x\n",
        ""
      ],
      "metadata": {
        "id": "vwsCL5YJTWsw"
      },
      "execution_count": 22,
      "outputs": []
    },
    {
      "cell_type": "code",
      "source": [
        "class Solution(object):\n",
        "    def isPalindrome(self, x):\n",
        "        \"\"\"\n",
        "        :type x: int\n",
        "        :rtype: bool\n",
        "        \"\"\"\n",
        "        if x < 0 or (x % 10 == 0 and x != 0):\n",
        "            return False\n",
        "\n",
        "        reversed_half = 0\n",
        "        while x > reversed_half:\n",
        "\n",
        "            reversed_half = reversed_half * 10 + x % 10\n",
        "            x //= 10\n",
        "\n",
        "\n",
        "        return x == reversed_half or x == reversed_half // 10\n",
        "\n",
        "\n",
        "solution = Solution()\n",
        "print(solution.isPalindrome(121))\n",
        "print(solution.isPalindrome(-121))\n",
        "print(solution.isPalindrome(10))\n",
        "print(solution.isPalindrome(0))\n"
      ],
      "metadata": {
        "colab": {
          "base_uri": "https://localhost:8080/"
        },
        "id": "4NbxI0XXV0ov",
        "outputId": "e0acdf20-5a47-4e14-f5ba-0e1e1d7e8e82"
      },
      "execution_count": 23,
      "outputs": [
        {
          "output_type": "stream",
          "name": "stdout",
          "text": [
            "True\n",
            "False\n",
            "False\n",
            "True\n"
          ]
        }
      ]
    }
  ]
}